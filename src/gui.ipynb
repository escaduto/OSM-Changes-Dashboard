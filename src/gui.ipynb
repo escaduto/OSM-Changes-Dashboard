{
 "cells": [
  {
   "cell_type": "code",
   "execution_count": 4,
   "metadata": {},
   "outputs": [],
   "source": [
    "%matplotlib inline\n",
    "from tab1_main import *\n",
    "from tab2_main import *\n"
   ]
  },
  {
   "cell_type": "code",
   "execution_count": 5,
   "metadata": {},
   "outputs": [
    {
     "data": {
      "application/vnd.jupyter.widget-view+json": {
       "model_id": "9c4178cb34004e5dae8bafe614ff845a",
       "version_major": 2,
       "version_minor": 0
      },
      "text/plain": [
       "Tab(children=(HBox(children=(VBox(children=(HTML(value='<h2>OSM Change Downloader</h2>'), HBox(children=(Label…"
      ]
     },
     "metadata": {},
     "output_type": "display_data"
    }
   ],
   "source": [
    "tab_nest = widgets.Tab()\n",
    "tab_nest.children = [getTab1(), getTab2(), getTab3(), getTab4(), getTab5()]\n",
    "tab_nest.set_title(0, 'Downloader')\n",
    "tab_nest.set_title(1, 'Change Count')\n",
    "tab_nest.set_title(2, 'Geom Change')\n",
    "tab_nest.set_title(3, 'Tag Change')\n",
    "tab_nest.set_title(4, 'Complete Table')\n",
    "tab_nest"
   ]
  }
 ],
 "metadata": {
  "interpreter": {
   "hash": "aee8b7b246df8f9039afb4144a1f6fd8d2ca17a180786b69acc140d282b71a49"
  },
  "kernelspec": {
   "display_name": "Python 3.9.5 64-bit",
   "language": "python",
   "name": "python3"
  },
  "language_info": {
   "codemirror_mode": {
    "name": "ipython",
    "version": 3
   },
   "file_extension": ".py",
   "mimetype": "text/x-python",
   "name": "python",
   "nbconvert_exporter": "python",
   "pygments_lexer": "ipython3",
   "version": "3.9.5"
  },
  "orig_nbformat": 4
 },
 "nbformat": 4,
 "nbformat_minor": 2
}
