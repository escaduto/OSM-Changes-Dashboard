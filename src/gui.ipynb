{
 "cells": [
  {
   "cell_type": "code",
   "execution_count": 24,
   "metadata": {},
   "outputs": [],
   "source": [
    "%matplotlib inline\n",
    "import pandas as pd\n",
    "import geopandas as gpd\n",
    "from datetime import date\n",
    "from ipyleaflet import Map, basemaps, basemap_to_tiles, DrawControl, GeoData, LayersControl\n",
    "\n",
    "import ipywidgets as widgets \n",
    "from ipywidgets import AppLayout, Button, Layout, Layout, Button, Box, FloatText, Textarea, Dropdown, Label, IntSlider, DatePicker, Output, VBox, HBox, Text, SelectMultiple, Combobox, Accordion\n",
    "from ipywidgets.embed import embed_data\n",
    "from IPython.display import clear_output, HTML, display, Image\n",
    "\n",
    "import threading\n",
    "import time\n",
    "import matplotlib.pyplot as plt\n",
    "%matplotlib inline\n",
    "\n",
    "from collections import Counter\n",
    "import datetime\n",
    "import itertools\n",
    "\n",
    "from app import *"
   ]
  },
  {
   "cell_type": "code",
   "execution_count": 25,
   "metadata": {},
   "outputs": [],
   "source": [
    "# HEADER\n",
    "header = widgets.HTML(\"<h1>OSM Data Change Tracker</h1>\", layout=Layout(height='auto'))\n",
    "header.style.text_align='center'\n",
    "\n",
    "footer = widgets.HTML('<h5 style=\"color:DodgerBlue;\"> Source: OpenStreet Map via Overpass API </h5>', layout=Layout(height='auto'))\n",
    "\n",
    "# DATE PICKER\n",
    "start_dt = DatePicker(layout=Layout(flex='1 1 0%', width='auto'), disabled=False)\n",
    "end_dt = DatePicker(layout=Layout(flex='1 1 0%', width='auto'), disabled=False)\n",
    "\n",
    "# Map coord \n",
    "map_coord = widgets.Text(\n",
    "    value= '(37.2367241, 131.8738459)',\n",
    "    description='Map Center:',\n",
    "    disabled=False, style=dict(description_width='initial'),\n",
    "    continuous_update=False\n",
    "    )\n",
    "\n",
    "# Map Zoom\n",
    "map_zoom = widgets.IntText(\n",
    "    value=15,\n",
    "    description='Zoom:',\n",
    "    disabled=False,\n",
    "    continuous_update=False\n",
    ")\n",
    "\n",
    "# BBOX \n",
    "bbox_coord = widgets.Text(\n",
    "    value= '(37.22828,131.85043,37.25282, 131.88316)',\n",
    "    description='Bbox Coord:',\n",
    "    disabled=False, style=dict(description_width='initial')\n",
    "    )\n",
    "\n",
    "# Filenam\n",
    "input_filename = widgets.Text(\n",
    "    value='sample.csv',\n",
    "    placeholder='filename',\n",
    "    description='Save File as:',\n",
    "    disabled=False, style=dict(description_width='initial')\n",
    "    )\n",
    "\n",
    "# SPECIFY INTERVAL\n",
    "hourly_slider = widgets.IntSlider(\n",
    "    value=24,\n",
    "    min=1,\n",
    "    max=200,\n",
    "    description='Hourly Interval:'\n",
    ")\n",
    "\n",
    "# REQUEST BUTTON \n",
    "Request_button = widgets.Button(\n",
    "    description='Download Data',\n",
    "    disabled=False,\n",
    "    button_style='success',\n",
    "    icon='table', layout = Layout(width='200px', height='auto'),\n",
    "    style=dict(description_width='initial'))\n",
    "\n",
    "\n",
    "# BBOX Refresh button\n",
    "bbox_button = widgets.Button(\n",
    "    description='Update',\n",
    "    disabled=False,\n",
    "    button_style='warning',\n",
    "    icon='arrow-rotate-right', layout = Layout(width='80px', height='auto'),\n",
    "    style=dict(description_width='initial'))\n",
    "\n",
    "progress_search = widgets.FloatProgress(value=0.0, min=0.0, max=1.0, \n",
    "    description='Progress',\n",
    "    bar_style='info',\n",
    "    style={'bar_color': '#94b79f'})\n",
    "Complete_msg = widgets.HTML()\n"
   ]
  },
  {
   "cell_type": "code",
   "execution_count": 29,
   "metadata": {},
   "outputs": [],
   "source": [
    "def tab1_on_value_change(change):\n",
    "    clear_output()\n",
    "    feature_collection = getEmptyFeatureCollection()\n",
    "    tab1 = HBox(children=[VBox(children=[tab1_header, HBox(children=[Label(value='Start Date', layout=dict(height='auto')), \n",
    "                                                                 start_dt, Label(value='End Date', layout=dict(height='auto')), end_dt]), \n",
    "                                     hourly_slider, \n",
    "                                     HBox(children=[bbox_coord, bbox_button]), \n",
    "                                     input_filename, \n",
    "                                     Request_button, \n",
    "                                     HBox(children=[progress_search, Complete_msg]), footer]), \n",
    "                                     VBox(children=[HBox(children=[map_coord, map_zoom]), createMap(eval(map_coord.value), map_zoom.value, draw_control)])])\n",
    "    display(tab1) \n",
    "\n",
    "\n",
    "def tab2_on_value_change(change):\n",
    "  df = pd.read_csv(os.path.join('../data', selection_filename.value))\n",
    "  with plot_output: \n",
    "    clear_output()\n",
    "    getHistPlot(os.path.join('../data', selection_filename.value), 'chart.png')\n",
    "    img = Image(os.path.join('../figs', 'chart.png'))\n",
    "    display(img)\n",
    "  with table_output:\n",
    "    clear_output() \n",
    "    counter_df = osmIDCounter(os.path.join('../data', selection_filename.value)).head(10).reset_index(drop = True)\n",
    "    display(HTML(counter_df.to_html(render_links=True, escape=False)))"
   ]
  },
  {
   "cell_type": "code",
   "execution_count": 30,
   "metadata": {},
   "outputs": [],
   "source": [
    "feature_collection = getEmptyFeatureCollection()\n",
    "draw_control = getDrawControl()\n",
    "\n",
    "Request_button.on_click(callback)\n",
    "bbox_button.on_click(updateBBOX)\n",
    "map_coord.observe(tab1_on_value_change, names='value')\n",
    "map_zoom.observe(tab1_on_value_change, names='value')\n"
   ]
  },
  {
   "cell_type": "code",
   "execution_count": 31,
   "metadata": {},
   "outputs": [],
   "source": [
    "plot_output = widgets.Output(layout = Layout(width='600px', height='auto'))\n",
    "table_output = widgets.Output(layout = Layout(width='400px', height='auto'))\n",
    "\n",
    "selection_filename = widgets.Dropdown(\n",
    "    options=get_files(os.path.join('../data')),\n",
    "    description='Select File:',\n",
    "    style=dict(description_width='initial')\n",
    ")\n",
    "\n",
    "%matplotlib inline\n",
    "\n",
    "\n",
    "selection_filename.observe(tab2_on_value_change, names='value')"
   ]
  },
  {
   "cell_type": "code",
   "execution_count": 32,
   "metadata": {},
   "outputs": [],
   "source": [
    "tab1_header = widgets.HTML(value='<h2>OSM Change Downloader</h2>')\n",
    "tab1 = HBox(children=[VBox(children=[tab1_header, HBox(children=[Label(value='Start Date', layout=dict(height='auto')), \n",
    "                                                                 start_dt, Label(value='End Date', layout=dict(height='auto')), end_dt]), \n",
    "                                     hourly_slider, \n",
    "                                     HBox(children=[bbox_coord, bbox_button]), \n",
    "                                     input_filename, \n",
    "                                     Request_button, \n",
    "                                     HBox(children=[progress_search, Complete_msg]), footer]), \n",
    "                                     VBox(children=[HBox(children=[map_coord, map_zoom]), createMap(eval(map_coord.value), map_zoom.value, draw_control)])])\n"
   ]
  },
  {
   "cell_type": "code",
   "execution_count": 33,
   "metadata": {},
   "outputs": [
    {
     "data": {
      "application/vnd.jupyter.widget-view+json": {
       "model_id": "3fa4b2152f4d4ca4a5dfc8301e2568f6",
       "version_major": 2,
       "version_minor": 0
      },
      "text/plain": [
       "HBox(children=(VBox(children=(HTML(value='<h2>OSM Change Downloader</h2>'), HBox(children=(Label(value='Start …"
      ]
     },
     "metadata": {},
     "output_type": "display_data"
    }
   ],
   "source": [
    "tab1"
   ]
  },
  {
   "cell_type": "code",
   "execution_count": 34,
   "metadata": {},
   "outputs": [],
   "source": [
    "tab2_header = widgets.HTML(value='<h2>Data Visualizer</h2>')\n",
    "table_header = widgets.HTML(value='<h2>Top 10 OSM IDs</h2>')\n",
    "\n",
    "tab2 = HBox(children=[VBox(children=[tab2_header, selection_filename, table_output]), plot_output])"
   ]
  },
  {
   "cell_type": "code",
   "execution_count": 35,
   "metadata": {},
   "outputs": [
    {
     "data": {
      "application/vnd.jupyter.widget-view+json": {
       "model_id": "2b7599e4c07444268b9139ad050e07b9",
       "version_major": 2,
       "version_minor": 0
      },
      "text/plain": [
       "HBox(children=(VBox(children=(HTML(value='<h2>Data Visualizer</h2>'), Dropdown(description='Select File:', opt…"
      ]
     },
     "metadata": {},
     "output_type": "display_data"
    }
   ],
   "source": [
    "tab2"
   ]
  },
  {
   "cell_type": "code",
   "execution_count": null,
   "metadata": {},
   "outputs": [],
   "source": []
  }
 ],
 "metadata": {
  "interpreter": {
   "hash": "aee8b7b246df8f9039afb4144a1f6fd8d2ca17a180786b69acc140d282b71a49"
  },
  "kernelspec": {
   "display_name": "Python 3.9.5 64-bit",
   "language": "python",
   "name": "python3"
  },
  "language_info": {
   "codemirror_mode": {
    "name": "ipython",
    "version": 3
   },
   "file_extension": ".py",
   "mimetype": "text/x-python",
   "name": "python",
   "nbconvert_exporter": "python",
   "pygments_lexer": "ipython3",
   "version": "3.9.5"
  },
  "orig_nbformat": 4
 },
 "nbformat": 4,
 "nbformat_minor": 2
}
