{
 "cells": [
  {
   "cell_type": "code",
   "execution_count": 19,
   "metadata": {},
   "outputs": [],
   "source": [
    "%matplotlib inline\n",
    "import pandas as pd\n",
    "import geopandas as gpd\n",
    "from datetime import date\n",
    "from ipyleaflet import Map, basemaps, basemap_to_tiles, DrawControl, GeoData, LayersControl\n",
    "\n",
    "import ipywidgets as widgets \n",
    "from ipywidgets import AppLayout, Button, Layout, Layout, Button, Box, FloatText, Textarea, Dropdown, Label, IntSlider, DatePicker, Output, VBox, HBox, Text, SelectMultiple, Combobox, Accordion\n",
    "from ipywidgets.embed import embed_data\n",
    "from IPython.display import clear_output, HTML, display, Image\n",
    "\n",
    "import threading\n",
    "import time\n",
    "import matplotlib.pyplot as plt\n",
    "%matplotlib inline\n",
    "\n",
    "from collections import Counter\n",
    "import datetime\n",
    "import itertools\n",
    "\n",
    "from app import *"
   ]
  },
  {
   "cell_type": "code",
   "execution_count": 20,
   "metadata": {},
   "outputs": [],
   "source": [
    "# HEADER\n",
    "header = widgets.HTML(\"<h1>OSM Data Change Tracker</h1>\", layout=Layout(height='auto'))\n",
    "header.style.text_align='center'\n",
    "\n",
    "footer = widgets.HTML('<h5 style=\"color:DodgerBlue;\"> Source: OpenStreet Map via Overpass API </h5>', layout=Layout(height='auto'))\n",
    "\n",
    "# DATE PICKER\n",
    "start_dt = DatePicker(layout=Layout(flex='1 1 0%', width='auto'), disabled=False)\n",
    "end_dt = DatePicker(layout=Layout(flex='1 1 0%', width='auto'), disabled=False)\n",
    "\n",
    "# Map coord \n",
    "map_coord = widgets.Text(\n",
    "    value= '(-51.71312453127716, -59.65015951499032)',\n",
    "    description='Map Center:',\n",
    "    disabled=False, style=dict(description_width='initial'),\n",
    "    continuous_update=False\n",
    "    )\n",
    "\n",
    "# Map Zoom\n",
    "map_zoom = widgets.IntText(\n",
    "    value=15,\n",
    "    description='Zoom:',\n",
    "    disabled=False,\n",
    "    continuous_update=False\n",
    ")\n",
    "\n",
    "# BBOX \n",
    "bbox_coord = widgets.Text(\n",
    "    value= '(37.22828,131.85043,37.25282, 131.88316)',\n",
    "    description='Bbox Coord:',\n",
    "    disabled=False, style=dict(description_width='initial')\n",
    "    )\n",
    "\n",
    "# Filenam\n",
    "input_filename = widgets.Text(\n",
    "    value='sample.csv',\n",
    "    placeholder='filename',\n",
    "    description='Save File as:',\n",
    "    disabled=False, style=dict(description_width='initial')\n",
    "    )\n",
    "\n",
    "# SPECIFY INTERVAL\n",
    "hourly_slider = widgets.IntSlider(\n",
    "    value=24,\n",
    "    min=1,\n",
    "    max=200,\n",
    "    description='Hourly Interval:'\n",
    ")\n",
    "\n",
    "# REQUEST BUTTON \n",
    "Request_button = widgets.Button(\n",
    "    description='Download Data',\n",
    "    disabled=False,\n",
    "    button_style='success',\n",
    "    icon='table', layout = Layout(width='200px', height='auto'),\n",
    "    style=dict(description_width='initial'))\n",
    "\n",
    "\n",
    "# BBOX Refresh button\n",
    "bbox_button = widgets.Button(\n",
    "    description='Update',\n",
    "    disabled=False,\n",
    "    button_style='warning',\n",
    "    icon='arrow-rotate-right', layout = Layout(width='80px', height='auto'),\n",
    "    style=dict(description_width='initial'))\n",
    "\n",
    "progress_search = widgets.FloatProgress(value=0.0, min=0.0, max=1.0, \n",
    "    description='Progress',\n",
    "    bar_style='info',\n",
    "    style={'bar_color': '#94b79f'})\n",
    "Complete_msg = widgets.HTML()\n"
   ]
  },
  {
   "cell_type": "code",
   "execution_count": 21,
   "metadata": {},
   "outputs": [],
   "source": [
    "import plotly.graph_objects as go\n",
    "import dtale"
   ]
  },
  {
   "cell_type": "code",
   "execution_count": 22,
   "metadata": {},
   "outputs": [],
   "source": [
    "def checkPivot_ChangeType(dff):\n",
    "    if 'create' not in dff:\n",
    "        dff['create'] = 0\n",
    "    elif 'delete' not in dff:\n",
    "        dff['delete'] = 0 \n",
    "    elif 'modify' not in dff: \n",
    "        dff['modify'] = 0 \n",
    "    return dff "
   ]
  },
  {
   "cell_type": "code",
   "execution_count": 23,
   "metadata": {},
   "outputs": [],
   "source": [
    "def checkPivot_OsmType(dff):\n",
    "    if 'node' not in dff:\n",
    "        dff['node'] = 0\n",
    "    elif 'relation' not in dff:\n",
    "        dff['relation'] = 0 \n",
    "    elif 'way' not in dff: \n",
    "        dff['way'] = 0 \n",
    "    return dff \n"
   ]
  },
  {
   "cell_type": "code",
   "execution_count": 24,
   "metadata": {},
   "outputs": [],
   "source": [
    "def getGeomTrueDF(output_csv_name):\n",
    "    geom_df = is_geometryEdit(output_csv_name)\n",
    "    geomTrue = geom_df[geom_df['is_geometry_edit'] == True]\n",
    "    return geomTrue"
   ]
  },
  {
   "cell_type": "code",
   "execution_count": 25,
   "metadata": {},
   "outputs": [],
   "source": [
    "from ipyleaflet import Map, WKTLayer, MarkerCluster, LayerGroup\n"
   ]
  },
  {
   "cell_type": "code",
   "execution_count": 37,
   "metadata": {},
   "outputs": [],
   "source": [
    "from ipyleaflet import Map, WKTLayer\n",
    "\n",
    "def createGeomEditMap(map_center, map_zoom, output_csv_name):\n",
    "\n",
    "    terrain_base = basemap_to_tiles(basemaps.Stamen.Toner)\n",
    "\n",
    "    m = Map(layers=(terrain_base, ), center=map_center, zoom=8)\n",
    "    marker_list = [] \n",
    "    geom_df = getGeomTrueDF(output_csv_name).reset_index(drop=True)\n",
    "    for i, row in geom_df.iterrows():\n",
    "        if 'POLYGON' in row['old_geom']:\n",
    "            w_oldlayer = WKTLayer(\n",
    "                wkt_string=row['old_geom'],\n",
    "                style={\"fillColor\": \"red\", \"color\":\"red\"},\n",
    "            )\n",
    "            w_newlayer = WKTLayer(\n",
    "                wkt_string=row['new_geom'],\n",
    "                style={\"fillColor\": \"green\", \"color\":\"green\"},\n",
    "            )\n",
    "            m.add_layer(w_oldlayer)\n",
    "            m.add_layer(w_newlayer)\n",
    "        elif 'POINT' in row['old_geom']:\n",
    "            w_oldlayer = WKTLayer(\n",
    "                wkt_string=row['old_geom'],\n",
    "                style={\"fillColor\": \"red\", \"color\":\"red\"},\n",
    "            )\n",
    "            w_newlayer = WKTLayer(\n",
    "                wkt_string=row['new_geom'],\n",
    "                style={\"fillColor\": \"green\", \"color\":\"green\"},\n",
    "            )\n",
    "            marker_list.append(w_newlayer)\n",
    "            marker_list.append(w_oldlayer)\n",
    "\n",
    "    # layer_group = LayerGroup(layers=(marker_list))\n",
    "    marker_cluster = MarkerCluster(\n",
    "        markers=(marker_list),\n",
    "    )\n",
    "\n",
    "    m.add_layer(marker_cluster)\n",
    "\n",
    "    m.layout.width='auto'\n",
    "    m.layout.height='600'\n",
    "    return m "
   ]
  },
  {
   "cell_type": "code",
   "execution_count": 38,
   "metadata": {},
   "outputs": [],
   "source": [
    "def tab1_on_value_change(change):\n",
    "    clear_output()\n",
    "    feature_collection = getEmptyFeatureCollection()\n",
    "    tab1 = HBox(children=[VBox(children=[tab1_header, HBox(children=[Label(value='Start Date', layout=dict(height='auto')), \n",
    "                                                                 start_dt, Label(value='End Date', layout=dict(height='auto')), end_dt]), \n",
    "                                     hourly_slider, \n",
    "                                     HBox(children=[bbox_coord, bbox_button]), \n",
    "                                     input_filename, \n",
    "                                     Request_button, \n",
    "                                     HBox(children=[progress_search, Complete_msg]), footer]), \n",
    "                                     VBox(children=[HBox(children=[map_coord, map_zoom]), createMap(eval(map_coord.value), map_zoom.value, draw_control)])])\n",
    "    display(tab1) \n",
    "\n",
    "\n",
    "def tab2_on_value_change(change):\n",
    "  df_complete = pd.read_csv(os.path.join('../data', selection_filename.value)).drop(columns = ['Unnamed: 0'])\n",
    "  df_unique = df_complete.drop_duplicates(subset = [\"change_type\", \"osm_id\",\"osm_type\", \"end_ds\"]).reset_index(drop=True).drop(columns = ['start_ds', 'tag_key', 'tag_value', 'history'])\n",
    "  with plot_output: \n",
    "    clear_output()\n",
    "    df_byDay = df_unique.groupby([\"end_ds\", \"change_type\"])['osm_id'].count().reset_index(name='count')\n",
    "    df_byDay['end_ds'] = pd.to_datetime(df_byDay['end_ds']).dt.date\n",
    "    df_byDay['end_ds'] = df_byDay['end_ds'].apply(lambda x: x.strftime('%Y-%m-%d'))\n",
    "    \n",
    "    df1 = df_byDay.pivot(index='end_ds', columns='change_type', values='count').fillna(0)\n",
    "    df1 = df1.reset_index()\n",
    "    df1 = checkPivot_ChangeType(df1)\n",
    "    df1 = checkPivot_ChangeType(df1)\n",
    "    df1 = checkPivot_ChangeType(df1)\n",
    "\n",
    "    df_byDay_osmType = df_unique.groupby([\"end_ds\", \"osm_type\"])['osm_id'].count().reset_index(name='count')\n",
    "    df_byDay_osmType['end_ds'] = pd.to_datetime(df_byDay_osmType['end_ds']).dt.date\n",
    "    df_byDay_osmType['end_ds'] = df_byDay_osmType['end_ds'].apply(lambda x: x.strftime('%Y-%m-%d'))\n",
    "    df2 = df_byDay_osmType.pivot(index='end_ds', columns='osm_type', values='count').fillna(0)\n",
    "    df2 = df2.reset_index()\n",
    "    df2 = checkPivot_OsmType(df2)\n",
    "    df2 = checkPivot_OsmType(df2)\n",
    "    df2 = checkPivot_OsmType(df2)\n",
    "\n",
    "    fig = go.Figure(go.Bar(x=df1['end_ds'], y=df1['create'], marker_color= 'green', opacity=0.65, name='create'))\n",
    "    fig.add_trace(go.Bar(x=df1['end_ds'], y=df1['delete'], marker_color= 'firebrick', opacity=0.65, name='delete'))\n",
    "    fig.add_trace(go.Bar(x=df1['end_ds'], y=df1['modify'], marker_color= 'purple', opacity=0.65, name='modify'))\n",
    "    fig.add_trace(go.Scatter(x=df2['end_ds'], y=df2['node'], opacity=0.85, marker_color='yellow', name='node'))\n",
    "    fig.add_trace(go.Scatter(x=df2['end_ds'], y=df2['relation'], opacity=0.85, marker_color= 'orange', name='relation'))\n",
    "    fig.add_trace(go.Scatter(x=df2['end_ds'], y=df2['way'], opacity=0.85, marker_color='steelblue', name='way'))\n",
    "    fig.update_layout(barmode='stack', xaxis={'categoryorder':'category ascending'})\n",
    "\n",
    "    g1 = go.FigureWidget(data=fig,\n",
    "                    layout=go.Layout(\n",
    "                        title=dict(\n",
    "                            text='Change Type'\n",
    "                        ),\n",
    "                        barmode='stack'\n",
    "                    ))\n",
    "    display(g1)\n",
    "\n",
    "  with geomTable_output: \n",
    "    clear_output()\n",
    "    geom_df = getGeomTrueDF(selection_filename.value).reset_index(drop=True)\n",
    "    if len(geom_df) != 0:\n",
    "      display(geom_df)\n",
    "    else: \n",
    "      display(widgets.HTML(value='<h2>No Geometry Edits!</h2>'))\n",
    "\n",
    "\n",
    "  with table_output:\n",
    "    clear_output() \n",
    "    counter_df = osmIDCounter(os.path.join('../data', selection_filename.value)).head(10).reset_index(drop = True)\n",
    "    # widget = qgrid.show_grid(counter_df)\n",
    "    # display(widget)\n",
    "    # display(dtale.show(counter_df))\n",
    "    display(HTML(counter_df.to_html(render_links=True, escape=False)))\n",
    "\n",
    "  with completetable_output:\n",
    "    clear_output()\n",
    "    display(dtale.show(df_complete))\n",
    "\n",
    "  with map_output:\n",
    "    clear_output()\n",
    "    display(createMapDiff(eval(map_coord.value), map_zoom.value, draw_control))\n",
    "\n",
    "  with geom_map_output:\n",
    "    clear_output()\n",
    "    display(createGeomEditMap(eval(map_coord.value), map_zoom, selection_filename.value))"
   ]
  },
  {
   "cell_type": "code",
   "execution_count": 39,
   "metadata": {},
   "outputs": [],
   "source": [
    "def work(progress_search):\n",
    "    Complete_msg.value = \"\"\n",
    "    total = 100\n",
    "    for i in range(total):\n",
    "        time.sleep(0.3)\n",
    "        progress_search.value = float(i+1)/total\n",
    "    Complete_msg.value = f\"<h4 style='color:MediumSeaGreen;'> Complete! </h4>\"\n",
    "\n",
    "def callback(wdgt):\n",
    "    thread = threading.Thread(target=work, args=(progress_search,))\n",
    "    display(progress_search)\n",
    "    thread.start()\n",
    "    retrieveOSMDATA(hourly_slider.value, start_dt.value, end_dt.value, input_filename.value, bbox_coord.value)\n",
    "    \n",
    "def updateBBOX(wdgt):\n",
    "  if len(feature_collection['features']) != 0: \n",
    "    coord_list = feature_collection['features'][0]['geometry']['coordinates'][0]\n",
    "    minlon = coord_list[0][1]\n",
    "    minlat = coord_list[0][0]\n",
    "    maxlon = coord_list[1][1]\n",
    "    maxlat = coord_list[2][0]\n",
    "    bbox_tuple = (minlon, minlat, maxlon, maxlat)\n",
    "    # bbox value \n",
    "    bbox_coord.value = str(bbox_tuple)\n",
    "  else: \n",
    "    pass "
   ]
  },
  {
   "cell_type": "code",
   "execution_count": 40,
   "metadata": {},
   "outputs": [],
   "source": [
    "feature_collection = getEmptyFeatureCollection()\n",
    "draw_control = getDrawControl()\n",
    "\n",
    "Request_button.on_click(callback)\n",
    "bbox_button.on_click(updateBBOX)\n",
    "map_coord.observe(tab1_on_value_change, names='value')\n",
    "map_zoom.observe(tab1_on_value_change, names='value')\n"
   ]
  },
  {
   "cell_type": "code",
   "execution_count": 45,
   "metadata": {},
   "outputs": [],
   "source": [
    "plot_output = widgets.Output(layout = Layout(width='auto', height='100'))\n",
    "table_output = widgets.Output(layout = Layout(width='400px', height='auto'))\n",
    "geomTable_output = widgets.Output(layout = Layout(width='auto', height='100'))\n",
    "map_output = widgets.Output(layout = Layout(width='400px', height='auto'))\n",
    "geom_map_output = widgets.Output(layout = Layout(width='600px', height='auto'))\n",
    "completetable_output = widgets.Output(layout = Layout(width='auto', height='auto'))\n",
    "\n",
    "selection_filename = widgets.Dropdown(\n",
    "    options=get_files(os.path.join('../data')),\n",
    "    description='Select File:',\n",
    "    style=dict(description_width='initial')\n",
    ")\n",
    "\n",
    "%matplotlib inline\n",
    "\n",
    "\n",
    "selection_filename.observe(tab2_on_value_change, names='value')"
   ]
  },
  {
   "cell_type": "code",
   "execution_count": 46,
   "metadata": {},
   "outputs": [],
   "source": [
    "tab1_header = widgets.HTML(value='<h2>OSM Change Downloader</h2>')\n",
    "tab1 = HBox(children=[VBox(children=[tab1_header, HBox(children=[Label(value='Start Date', layout=dict(height='auto')), \n",
    "                                                                 start_dt, Label(value='End Date', layout=dict(height='auto')), end_dt]), \n",
    "                                     hourly_slider, \n",
    "                                     HBox(children=[bbox_coord, bbox_button]), \n",
    "                                     input_filename, \n",
    "                                     Request_button, \n",
    "          \n",
    "                                     HBox(children=[progress_search, Complete_msg]), footer]), \n",
    "                                     VBox(children=[HBox(children=[map_coord, map_zoom]), createMap(eval(map_coord.value), map_zoom.value, draw_control)])])\n"
   ]
  },
  {
   "cell_type": "code",
   "execution_count": 47,
   "metadata": {},
   "outputs": [],
   "source": [
    "tab2_header = widgets.HTML(value='<h2>Change Frequency</h2>')\n",
    "table_header = widgets.HTML(value='<h2>Top 10 OSM IDs</h2>')\n",
    "\n",
    "tab2 = HBox(children=[VBox(children=[tab2_header, selection_filename, HBox(children=[plot_output])])])\n",
    "tab3 = VBox(children=[geom_map_output, geomTable_output])\n",
    "tab4 = HBox(children=[table_output])\n",
    "tab5 = completetable_output"
   ]
  },
  {
   "cell_type": "code",
   "execution_count": 48,
   "metadata": {},
   "outputs": [
    {
     "data": {
      "application/vnd.jupyter.widget-view+json": {
       "model_id": "ab77ae32399d483387dd8fe146d79232",
       "version_major": 2,
       "version_minor": 0
      },
      "text/plain": [
       "Tab(children=(HBox(children=(VBox(children=(HTML(value='<h2>OSM Change Downloader</h2>'), HBox(children=(Label…"
      ]
     },
     "metadata": {},
     "output_type": "display_data"
    }
   ],
   "source": [
    "tab_nest = widgets.Tab()\n",
    "tab_nest.children = [tab1, tab2, tab3, tab4, tab5]\n",
    "tab_nest.set_title(0, 'Downloader')\n",
    "tab_nest.set_title(1, 'Change Count')\n",
    "tab_nest.set_title(2, 'Geom Change')\n",
    "tab_nest.set_title(3, 'Tag Change')\n",
    "tab_nest.set_title(4, 'Complete Table')\n",
    "tab_nest\n"
   ]
  },
  {
   "cell_type": "code",
   "execution_count": 34,
   "metadata": {},
   "outputs": [],
   "source": [
    "df_complete = pd.read_csv(os.path.join('../data', selection_filename.value)).drop(columns = ['Unnamed: 0'])\n",
    "df_unique = df_complete.drop_duplicates(subset = [\"change_type\", \"osm_id\",\"osm_type\", \"end_ds\"]).reset_index(drop=True).drop(columns = ['start_ds', 'tag_key', 'tag_value', 'history'])\n",
    "df_byDay = df_unique.groupby([\"end_ds\", \"change_type\"])['osm_id'].count().reset_index(name='count')\n",
    "df_byDay_osmType = df_unique.groupby([\"end_ds\", \"osm_type\"])['osm_id'].count().reset_index(name='count')\n",
    "df_byDay_osmType['end_ds'] = pd.to_datetime(df_byDay_osmType['end_ds']).dt.date\n",
    "df_unique['end_ds'] = pd.to_datetime(df_unique['end_ds']).dt.date"
   ]
  },
  {
   "cell_type": "markdown",
   "metadata": {},
   "source": []
  },
  {
   "cell_type": "code",
   "execution_count": 35,
   "metadata": {},
   "outputs": [
    {
     "data": {
      "application/vnd.plotly.v1+json": {
       "config": {
        "plotlyServerURL": "https://plot.ly"
       },
       "data": [
        {
         "alignmentgroup": "True",
         "hovertemplate": "change_type=modify<br>end_ds=%{x}<br>count=%{y}<extra></extra>",
         "legendgroup": "modify",
         "marker": {
          "color": "#636efa",
          "pattern": {
           "shape": ""
          }
         },
         "name": "modify",
         "offsetgroup": "modify",
         "orientation": "v",
         "showlegend": true,
         "textposition": "auto",
         "type": "bar",
         "x": [
          "2022-01-05T05:00:00Z",
          "2022-01-09T10:00:00Z",
          "2022-01-13T15:00:00Z",
          "2022-01-17T20:00:00Z",
          "2022-01-26T06:00:00Z",
          "2022-01-30T11:00:00Z",
          "2022-02-03T16:00:00Z",
          "2022-02-07T21:00:00Z"
         ],
         "xaxis": "x",
         "y": [
          133,
          74,
          3,
          117,
          5,
          178,
          18,
          13
         ],
         "yaxis": "y"
        },
        {
         "alignmentgroup": "True",
         "hovertemplate": "change_type=create<br>end_ds=%{x}<br>count=%{y}<extra></extra>",
         "legendgroup": "create",
         "marker": {
          "color": "#EF553B",
          "pattern": {
           "shape": ""
          }
         },
         "name": "create",
         "offsetgroup": "create",
         "orientation": "v",
         "showlegend": true,
         "textposition": "auto",
         "type": "bar",
         "x": [
          "2022-01-09T10:00:00Z",
          "2022-01-17T20:00:00Z",
          "2022-01-26T06:00:00Z",
          "2022-01-30T11:00:00Z",
          "2022-02-07T21:00:00Z"
         ],
         "xaxis": "x",
         "y": [
          80,
          169,
          32,
          362,
          75
         ],
         "yaxis": "y"
        },
        {
         "alignmentgroup": "True",
         "hovertemplate": "change_type=delete<br>end_ds=%{x}<br>count=%{y}<extra></extra>",
         "legendgroup": "delete",
         "marker": {
          "color": "#00cc96",
          "pattern": {
           "shape": ""
          }
         },
         "name": "delete",
         "offsetgroup": "delete",
         "orientation": "v",
         "showlegend": true,
         "textposition": "auto",
         "type": "bar",
         "x": [
          "2022-01-09T10:00:00Z",
          "2022-01-13T15:00:00Z",
          "2022-01-17T20:00:00Z",
          "2022-01-26T06:00:00Z",
          "2022-01-30T11:00:00Z"
         ],
         "xaxis": "x",
         "y": [
          11,
          2,
          18,
          1,
          47
         ],
         "yaxis": "y"
        }
       ],
       "layout": {
        "barmode": "relative",
        "legend": {
         "title": {
          "text": "change_type"
         },
         "tracegroupgap": 0
        },
        "margin": {
         "t": 60
        },
        "template": {
         "data": {
          "bar": [
           {
            "error_x": {
             "color": "#2a3f5f"
            },
            "error_y": {
             "color": "#2a3f5f"
            },
            "marker": {
             "line": {
              "color": "#E5ECF6",
              "width": 0.5
             },
             "pattern": {
              "fillmode": "overlay",
              "size": 10,
              "solidity": 0.2
             }
            },
            "type": "bar"
           }
          ],
          "barpolar": [
           {
            "marker": {
             "line": {
              "color": "#E5ECF6",
              "width": 0.5
             },
             "pattern": {
              "fillmode": "overlay",
              "size": 10,
              "solidity": 0.2
             }
            },
            "type": "barpolar"
           }
          ],
          "carpet": [
           {
            "aaxis": {
             "endlinecolor": "#2a3f5f",
             "gridcolor": "white",
             "linecolor": "white",
             "minorgridcolor": "white",
             "startlinecolor": "#2a3f5f"
            },
            "baxis": {
             "endlinecolor": "#2a3f5f",
             "gridcolor": "white",
             "linecolor": "white",
             "minorgridcolor": "white",
             "startlinecolor": "#2a3f5f"
            },
            "type": "carpet"
           }
          ],
          "choropleth": [
           {
            "colorbar": {
             "outlinewidth": 0,
             "ticks": ""
            },
            "type": "choropleth"
           }
          ],
          "contour": [
           {
            "colorbar": {
             "outlinewidth": 0,
             "ticks": ""
            },
            "colorscale": [
             [
              0,
              "#0d0887"
             ],
             [
              0.1111111111111111,
              "#46039f"
             ],
             [
              0.2222222222222222,
              "#7201a8"
             ],
             [
              0.3333333333333333,
              "#9c179e"
             ],
             [
              0.4444444444444444,
              "#bd3786"
             ],
             [
              0.5555555555555556,
              "#d8576b"
             ],
             [
              0.6666666666666666,
              "#ed7953"
             ],
             [
              0.7777777777777778,
              "#fb9f3a"
             ],
             [
              0.8888888888888888,
              "#fdca26"
             ],
             [
              1,
              "#f0f921"
             ]
            ],
            "type": "contour"
           }
          ],
          "contourcarpet": [
           {
            "colorbar": {
             "outlinewidth": 0,
             "ticks": ""
            },
            "type": "contourcarpet"
           }
          ],
          "heatmap": [
           {
            "colorbar": {
             "outlinewidth": 0,
             "ticks": ""
            },
            "colorscale": [
             [
              0,
              "#0d0887"
             ],
             [
              0.1111111111111111,
              "#46039f"
             ],
             [
              0.2222222222222222,
              "#7201a8"
             ],
             [
              0.3333333333333333,
              "#9c179e"
             ],
             [
              0.4444444444444444,
              "#bd3786"
             ],
             [
              0.5555555555555556,
              "#d8576b"
             ],
             [
              0.6666666666666666,
              "#ed7953"
             ],
             [
              0.7777777777777778,
              "#fb9f3a"
             ],
             [
              0.8888888888888888,
              "#fdca26"
             ],
             [
              1,
              "#f0f921"
             ]
            ],
            "type": "heatmap"
           }
          ],
          "heatmapgl": [
           {
            "colorbar": {
             "outlinewidth": 0,
             "ticks": ""
            },
            "colorscale": [
             [
              0,
              "#0d0887"
             ],
             [
              0.1111111111111111,
              "#46039f"
             ],
             [
              0.2222222222222222,
              "#7201a8"
             ],
             [
              0.3333333333333333,
              "#9c179e"
             ],
             [
              0.4444444444444444,
              "#bd3786"
             ],
             [
              0.5555555555555556,
              "#d8576b"
             ],
             [
              0.6666666666666666,
              "#ed7953"
             ],
             [
              0.7777777777777778,
              "#fb9f3a"
             ],
             [
              0.8888888888888888,
              "#fdca26"
             ],
             [
              1,
              "#f0f921"
             ]
            ],
            "type": "heatmapgl"
           }
          ],
          "histogram": [
           {
            "marker": {
             "pattern": {
              "fillmode": "overlay",
              "size": 10,
              "solidity": 0.2
             }
            },
            "type": "histogram"
           }
          ],
          "histogram2d": [
           {
            "colorbar": {
             "outlinewidth": 0,
             "ticks": ""
            },
            "colorscale": [
             [
              0,
              "#0d0887"
             ],
             [
              0.1111111111111111,
              "#46039f"
             ],
             [
              0.2222222222222222,
              "#7201a8"
             ],
             [
              0.3333333333333333,
              "#9c179e"
             ],
             [
              0.4444444444444444,
              "#bd3786"
             ],
             [
              0.5555555555555556,
              "#d8576b"
             ],
             [
              0.6666666666666666,
              "#ed7953"
             ],
             [
              0.7777777777777778,
              "#fb9f3a"
             ],
             [
              0.8888888888888888,
              "#fdca26"
             ],
             [
              1,
              "#f0f921"
             ]
            ],
            "type": "histogram2d"
           }
          ],
          "histogram2dcontour": [
           {
            "colorbar": {
             "outlinewidth": 0,
             "ticks": ""
            },
            "colorscale": [
             [
              0,
              "#0d0887"
             ],
             [
              0.1111111111111111,
              "#46039f"
             ],
             [
              0.2222222222222222,
              "#7201a8"
             ],
             [
              0.3333333333333333,
              "#9c179e"
             ],
             [
              0.4444444444444444,
              "#bd3786"
             ],
             [
              0.5555555555555556,
              "#d8576b"
             ],
             [
              0.6666666666666666,
              "#ed7953"
             ],
             [
              0.7777777777777778,
              "#fb9f3a"
             ],
             [
              0.8888888888888888,
              "#fdca26"
             ],
             [
              1,
              "#f0f921"
             ]
            ],
            "type": "histogram2dcontour"
           }
          ],
          "mesh3d": [
           {
            "colorbar": {
             "outlinewidth": 0,
             "ticks": ""
            },
            "type": "mesh3d"
           }
          ],
          "parcoords": [
           {
            "line": {
             "colorbar": {
              "outlinewidth": 0,
              "ticks": ""
             }
            },
            "type": "parcoords"
           }
          ],
          "pie": [
           {
            "automargin": true,
            "type": "pie"
           }
          ],
          "scatter": [
           {
            "marker": {
             "colorbar": {
              "outlinewidth": 0,
              "ticks": ""
             }
            },
            "type": "scatter"
           }
          ],
          "scatter3d": [
           {
            "line": {
             "colorbar": {
              "outlinewidth": 0,
              "ticks": ""
             }
            },
            "marker": {
             "colorbar": {
              "outlinewidth": 0,
              "ticks": ""
             }
            },
            "type": "scatter3d"
           }
          ],
          "scattercarpet": [
           {
            "marker": {
             "colorbar": {
              "outlinewidth": 0,
              "ticks": ""
             }
            },
            "type": "scattercarpet"
           }
          ],
          "scattergeo": [
           {
            "marker": {
             "colorbar": {
              "outlinewidth": 0,
              "ticks": ""
             }
            },
            "type": "scattergeo"
           }
          ],
          "scattergl": [
           {
            "marker": {
             "colorbar": {
              "outlinewidth": 0,
              "ticks": ""
             }
            },
            "type": "scattergl"
           }
          ],
          "scattermapbox": [
           {
            "marker": {
             "colorbar": {
              "outlinewidth": 0,
              "ticks": ""
             }
            },
            "type": "scattermapbox"
           }
          ],
          "scatterpolar": [
           {
            "marker": {
             "colorbar": {
              "outlinewidth": 0,
              "ticks": ""
             }
            },
            "type": "scatterpolar"
           }
          ],
          "scatterpolargl": [
           {
            "marker": {
             "colorbar": {
              "outlinewidth": 0,
              "ticks": ""
             }
            },
            "type": "scatterpolargl"
           }
          ],
          "scatterternary": [
           {
            "marker": {
             "colorbar": {
              "outlinewidth": 0,
              "ticks": ""
             }
            },
            "type": "scatterternary"
           }
          ],
          "surface": [
           {
            "colorbar": {
             "outlinewidth": 0,
             "ticks": ""
            },
            "colorscale": [
             [
              0,
              "#0d0887"
             ],
             [
              0.1111111111111111,
              "#46039f"
             ],
             [
              0.2222222222222222,
              "#7201a8"
             ],
             [
              0.3333333333333333,
              "#9c179e"
             ],
             [
              0.4444444444444444,
              "#bd3786"
             ],
             [
              0.5555555555555556,
              "#d8576b"
             ],
             [
              0.6666666666666666,
              "#ed7953"
             ],
             [
              0.7777777777777778,
              "#fb9f3a"
             ],
             [
              0.8888888888888888,
              "#fdca26"
             ],
             [
              1,
              "#f0f921"
             ]
            ],
            "type": "surface"
           }
          ],
          "table": [
           {
            "cells": {
             "fill": {
              "color": "#EBF0F8"
             },
             "line": {
              "color": "white"
             }
            },
            "header": {
             "fill": {
              "color": "#C8D4E3"
             },
             "line": {
              "color": "white"
             }
            },
            "type": "table"
           }
          ]
         },
         "layout": {
          "annotationdefaults": {
           "arrowcolor": "#2a3f5f",
           "arrowhead": 0,
           "arrowwidth": 1
          },
          "autotypenumbers": "strict",
          "coloraxis": {
           "colorbar": {
            "outlinewidth": 0,
            "ticks": ""
           }
          },
          "colorscale": {
           "diverging": [
            [
             0,
             "#8e0152"
            ],
            [
             0.1,
             "#c51b7d"
            ],
            [
             0.2,
             "#de77ae"
            ],
            [
             0.3,
             "#f1b6da"
            ],
            [
             0.4,
             "#fde0ef"
            ],
            [
             0.5,
             "#f7f7f7"
            ],
            [
             0.6,
             "#e6f5d0"
            ],
            [
             0.7,
             "#b8e186"
            ],
            [
             0.8,
             "#7fbc41"
            ],
            [
             0.9,
             "#4d9221"
            ],
            [
             1,
             "#276419"
            ]
           ],
           "sequential": [
            [
             0,
             "#0d0887"
            ],
            [
             0.1111111111111111,
             "#46039f"
            ],
            [
             0.2222222222222222,
             "#7201a8"
            ],
            [
             0.3333333333333333,
             "#9c179e"
            ],
            [
             0.4444444444444444,
             "#bd3786"
            ],
            [
             0.5555555555555556,
             "#d8576b"
            ],
            [
             0.6666666666666666,
             "#ed7953"
            ],
            [
             0.7777777777777778,
             "#fb9f3a"
            ],
            [
             0.8888888888888888,
             "#fdca26"
            ],
            [
             1,
             "#f0f921"
            ]
           ],
           "sequentialminus": [
            [
             0,
             "#0d0887"
            ],
            [
             0.1111111111111111,
             "#46039f"
            ],
            [
             0.2222222222222222,
             "#7201a8"
            ],
            [
             0.3333333333333333,
             "#9c179e"
            ],
            [
             0.4444444444444444,
             "#bd3786"
            ],
            [
             0.5555555555555556,
             "#d8576b"
            ],
            [
             0.6666666666666666,
             "#ed7953"
            ],
            [
             0.7777777777777778,
             "#fb9f3a"
            ],
            [
             0.8888888888888888,
             "#fdca26"
            ],
            [
             1,
             "#f0f921"
            ]
           ]
          },
          "colorway": [
           "#636efa",
           "#EF553B",
           "#00cc96",
           "#ab63fa",
           "#FFA15A",
           "#19d3f3",
           "#FF6692",
           "#B6E880",
           "#FF97FF",
           "#FECB52"
          ],
          "font": {
           "color": "#2a3f5f"
          },
          "geo": {
           "bgcolor": "white",
           "lakecolor": "white",
           "landcolor": "#E5ECF6",
           "showlakes": true,
           "showland": true,
           "subunitcolor": "white"
          },
          "hoverlabel": {
           "align": "left"
          },
          "hovermode": "closest",
          "mapbox": {
           "style": "light"
          },
          "paper_bgcolor": "white",
          "plot_bgcolor": "#E5ECF6",
          "polar": {
           "angularaxis": {
            "gridcolor": "white",
            "linecolor": "white",
            "ticks": ""
           },
           "bgcolor": "#E5ECF6",
           "radialaxis": {
            "gridcolor": "white",
            "linecolor": "white",
            "ticks": ""
           }
          },
          "scene": {
           "xaxis": {
            "backgroundcolor": "#E5ECF6",
            "gridcolor": "white",
            "gridwidth": 2,
            "linecolor": "white",
            "showbackground": true,
            "ticks": "",
            "zerolinecolor": "white"
           },
           "yaxis": {
            "backgroundcolor": "#E5ECF6",
            "gridcolor": "white",
            "gridwidth": 2,
            "linecolor": "white",
            "showbackground": true,
            "ticks": "",
            "zerolinecolor": "white"
           },
           "zaxis": {
            "backgroundcolor": "#E5ECF6",
            "gridcolor": "white",
            "gridwidth": 2,
            "linecolor": "white",
            "showbackground": true,
            "ticks": "",
            "zerolinecolor": "white"
           }
          },
          "shapedefaults": {
           "line": {
            "color": "#2a3f5f"
           }
          },
          "ternary": {
           "aaxis": {
            "gridcolor": "white",
            "linecolor": "white",
            "ticks": ""
           },
           "baxis": {
            "gridcolor": "white",
            "linecolor": "white",
            "ticks": ""
           },
           "bgcolor": "#E5ECF6",
           "caxis": {
            "gridcolor": "white",
            "linecolor": "white",
            "ticks": ""
           }
          },
          "title": {
           "x": 0.05
          },
          "xaxis": {
           "automargin": true,
           "gridcolor": "white",
           "linecolor": "white",
           "ticks": "",
           "title": {
            "standoff": 15
           },
           "zerolinecolor": "white",
           "zerolinewidth": 2
          },
          "yaxis": {
           "automargin": true,
           "gridcolor": "white",
           "linecolor": "white",
           "ticks": "",
           "title": {
            "standoff": 15
           },
           "zerolinecolor": "white",
           "zerolinewidth": 2
          }
         }
        },
        "xaxis": {
         "anchor": "y",
         "domain": [
          0,
          1
         ],
         "title": {
          "text": "end_ds"
         }
        },
        "yaxis": {
         "anchor": "x",
         "domain": [
          0,
          1
         ],
         "title": {
          "text": "count"
         }
        }
       }
      }
     },
     "metadata": {},
     "output_type": "display_data"
    }
   ],
   "source": [
    "import plotly.express as px\n",
    "\n",
    "\n",
    "fig = px.bar(df_byDay, x = \"end_ds\", y = \"count\", color = 'change_type')\n",
    "fig.show()"
   ]
  },
  {
   "cell_type": "code",
   "execution_count": 36,
   "metadata": {},
   "outputs": [
    {
     "data": {
      "application/vnd.plotly.v1+json": {
       "config": {
        "plotlyServerURL": "https://plot.ly"
       },
       "data": [
        {
         "hovertemplate": "osm_type=node<br>end_ds=%{x}<br>count=%{y}<extra></extra>",
         "legendgroup": "node",
         "line": {
          "color": "#636efa",
          "dash": "solid"
         },
         "marker": {
          "symbol": "circle"
         },
         "mode": "lines",
         "name": "node",
         "orientation": "v",
         "showlegend": true,
         "type": "scatter",
         "x": [
          "2022-01-05",
          "2022-01-09",
          "2022-01-13",
          "2022-01-17",
          "2022-01-26",
          "2022-01-30",
          "2022-02-03",
          "2022-02-07"
         ],
         "xaxis": "x",
         "y": [
          94,
          115,
          1,
          276,
          25,
          480,
          12,
          74
         ],
         "yaxis": "y"
        },
        {
         "hovertemplate": "osm_type=relation<br>end_ds=%{x}<br>count=%{y}<extra></extra>",
         "legendgroup": "relation",
         "line": {
          "color": "#EF553B",
          "dash": "solid"
         },
         "marker": {
          "symbol": "circle"
         },
         "mode": "lines",
         "name": "relation",
         "orientation": "v",
         "showlegend": true,
         "type": "scatter",
         "x": [
          "2022-01-05",
          "2022-01-09",
          "2022-01-13",
          "2022-01-17",
          "2022-01-26",
          "2022-01-30"
         ],
         "xaxis": "x",
         "y": [
          2,
          8,
          2,
          2,
          3,
          6
         ],
         "yaxis": "y"
        },
        {
         "hovertemplate": "osm_type=way<br>end_ds=%{x}<br>count=%{y}<extra></extra>",
         "legendgroup": "way",
         "line": {
          "color": "#00cc96",
          "dash": "solid"
         },
         "marker": {
          "symbol": "circle"
         },
         "mode": "lines",
         "name": "way",
         "orientation": "v",
         "showlegend": true,
         "type": "scatter",
         "x": [
          "2022-01-05",
          "2022-01-09",
          "2022-01-13",
          "2022-01-17",
          "2022-01-26",
          "2022-01-30",
          "2022-02-03",
          "2022-02-07"
         ],
         "xaxis": "x",
         "y": [
          37,
          42,
          2,
          26,
          10,
          101,
          6,
          14
         ],
         "yaxis": "y"
        }
       ],
       "layout": {
        "legend": {
         "title": {
          "text": "osm_type"
         },
         "tracegroupgap": 0
        },
        "margin": {
         "t": 60
        },
        "template": {
         "data": {
          "bar": [
           {
            "error_x": {
             "color": "#2a3f5f"
            },
            "error_y": {
             "color": "#2a3f5f"
            },
            "marker": {
             "line": {
              "color": "#E5ECF6",
              "width": 0.5
             },
             "pattern": {
              "fillmode": "overlay",
              "size": 10,
              "solidity": 0.2
             }
            },
            "type": "bar"
           }
          ],
          "barpolar": [
           {
            "marker": {
             "line": {
              "color": "#E5ECF6",
              "width": 0.5
             },
             "pattern": {
              "fillmode": "overlay",
              "size": 10,
              "solidity": 0.2
             }
            },
            "type": "barpolar"
           }
          ],
          "carpet": [
           {
            "aaxis": {
             "endlinecolor": "#2a3f5f",
             "gridcolor": "white",
             "linecolor": "white",
             "minorgridcolor": "white",
             "startlinecolor": "#2a3f5f"
            },
            "baxis": {
             "endlinecolor": "#2a3f5f",
             "gridcolor": "white",
             "linecolor": "white",
             "minorgridcolor": "white",
             "startlinecolor": "#2a3f5f"
            },
            "type": "carpet"
           }
          ],
          "choropleth": [
           {
            "colorbar": {
             "outlinewidth": 0,
             "ticks": ""
            },
            "type": "choropleth"
           }
          ],
          "contour": [
           {
            "colorbar": {
             "outlinewidth": 0,
             "ticks": ""
            },
            "colorscale": [
             [
              0,
              "#0d0887"
             ],
             [
              0.1111111111111111,
              "#46039f"
             ],
             [
              0.2222222222222222,
              "#7201a8"
             ],
             [
              0.3333333333333333,
              "#9c179e"
             ],
             [
              0.4444444444444444,
              "#bd3786"
             ],
             [
              0.5555555555555556,
              "#d8576b"
             ],
             [
              0.6666666666666666,
              "#ed7953"
             ],
             [
              0.7777777777777778,
              "#fb9f3a"
             ],
             [
              0.8888888888888888,
              "#fdca26"
             ],
             [
              1,
              "#f0f921"
             ]
            ],
            "type": "contour"
           }
          ],
          "contourcarpet": [
           {
            "colorbar": {
             "outlinewidth": 0,
             "ticks": ""
            },
            "type": "contourcarpet"
           }
          ],
          "heatmap": [
           {
            "colorbar": {
             "outlinewidth": 0,
             "ticks": ""
            },
            "colorscale": [
             [
              0,
              "#0d0887"
             ],
             [
              0.1111111111111111,
              "#46039f"
             ],
             [
              0.2222222222222222,
              "#7201a8"
             ],
             [
              0.3333333333333333,
              "#9c179e"
             ],
             [
              0.4444444444444444,
              "#bd3786"
             ],
             [
              0.5555555555555556,
              "#d8576b"
             ],
             [
              0.6666666666666666,
              "#ed7953"
             ],
             [
              0.7777777777777778,
              "#fb9f3a"
             ],
             [
              0.8888888888888888,
              "#fdca26"
             ],
             [
              1,
              "#f0f921"
             ]
            ],
            "type": "heatmap"
           }
          ],
          "heatmapgl": [
           {
            "colorbar": {
             "outlinewidth": 0,
             "ticks": ""
            },
            "colorscale": [
             [
              0,
              "#0d0887"
             ],
             [
              0.1111111111111111,
              "#46039f"
             ],
             [
              0.2222222222222222,
              "#7201a8"
             ],
             [
              0.3333333333333333,
              "#9c179e"
             ],
             [
              0.4444444444444444,
              "#bd3786"
             ],
             [
              0.5555555555555556,
              "#d8576b"
             ],
             [
              0.6666666666666666,
              "#ed7953"
             ],
             [
              0.7777777777777778,
              "#fb9f3a"
             ],
             [
              0.8888888888888888,
              "#fdca26"
             ],
             [
              1,
              "#f0f921"
             ]
            ],
            "type": "heatmapgl"
           }
          ],
          "histogram": [
           {
            "marker": {
             "pattern": {
              "fillmode": "overlay",
              "size": 10,
              "solidity": 0.2
             }
            },
            "type": "histogram"
           }
          ],
          "histogram2d": [
           {
            "colorbar": {
             "outlinewidth": 0,
             "ticks": ""
            },
            "colorscale": [
             [
              0,
              "#0d0887"
             ],
             [
              0.1111111111111111,
              "#46039f"
             ],
             [
              0.2222222222222222,
              "#7201a8"
             ],
             [
              0.3333333333333333,
              "#9c179e"
             ],
             [
              0.4444444444444444,
              "#bd3786"
             ],
             [
              0.5555555555555556,
              "#d8576b"
             ],
             [
              0.6666666666666666,
              "#ed7953"
             ],
             [
              0.7777777777777778,
              "#fb9f3a"
             ],
             [
              0.8888888888888888,
              "#fdca26"
             ],
             [
              1,
              "#f0f921"
             ]
            ],
            "type": "histogram2d"
           }
          ],
          "histogram2dcontour": [
           {
            "colorbar": {
             "outlinewidth": 0,
             "ticks": ""
            },
            "colorscale": [
             [
              0,
              "#0d0887"
             ],
             [
              0.1111111111111111,
              "#46039f"
             ],
             [
              0.2222222222222222,
              "#7201a8"
             ],
             [
              0.3333333333333333,
              "#9c179e"
             ],
             [
              0.4444444444444444,
              "#bd3786"
             ],
             [
              0.5555555555555556,
              "#d8576b"
             ],
             [
              0.6666666666666666,
              "#ed7953"
             ],
             [
              0.7777777777777778,
              "#fb9f3a"
             ],
             [
              0.8888888888888888,
              "#fdca26"
             ],
             [
              1,
              "#f0f921"
             ]
            ],
            "type": "histogram2dcontour"
           }
          ],
          "mesh3d": [
           {
            "colorbar": {
             "outlinewidth": 0,
             "ticks": ""
            },
            "type": "mesh3d"
           }
          ],
          "parcoords": [
           {
            "line": {
             "colorbar": {
              "outlinewidth": 0,
              "ticks": ""
             }
            },
            "type": "parcoords"
           }
          ],
          "pie": [
           {
            "automargin": true,
            "type": "pie"
           }
          ],
          "scatter": [
           {
            "marker": {
             "colorbar": {
              "outlinewidth": 0,
              "ticks": ""
             }
            },
            "type": "scatter"
           }
          ],
          "scatter3d": [
           {
            "line": {
             "colorbar": {
              "outlinewidth": 0,
              "ticks": ""
             }
            },
            "marker": {
             "colorbar": {
              "outlinewidth": 0,
              "ticks": ""
             }
            },
            "type": "scatter3d"
           }
          ],
          "scattercarpet": [
           {
            "marker": {
             "colorbar": {
              "outlinewidth": 0,
              "ticks": ""
             }
            },
            "type": "scattercarpet"
           }
          ],
          "scattergeo": [
           {
            "marker": {
             "colorbar": {
              "outlinewidth": 0,
              "ticks": ""
             }
            },
            "type": "scattergeo"
           }
          ],
          "scattergl": [
           {
            "marker": {
             "colorbar": {
              "outlinewidth": 0,
              "ticks": ""
             }
            },
            "type": "scattergl"
           }
          ],
          "scattermapbox": [
           {
            "marker": {
             "colorbar": {
              "outlinewidth": 0,
              "ticks": ""
             }
            },
            "type": "scattermapbox"
           }
          ],
          "scatterpolar": [
           {
            "marker": {
             "colorbar": {
              "outlinewidth": 0,
              "ticks": ""
             }
            },
            "type": "scatterpolar"
           }
          ],
          "scatterpolargl": [
           {
            "marker": {
             "colorbar": {
              "outlinewidth": 0,
              "ticks": ""
             }
            },
            "type": "scatterpolargl"
           }
          ],
          "scatterternary": [
           {
            "marker": {
             "colorbar": {
              "outlinewidth": 0,
              "ticks": ""
             }
            },
            "type": "scatterternary"
           }
          ],
          "surface": [
           {
            "colorbar": {
             "outlinewidth": 0,
             "ticks": ""
            },
            "colorscale": [
             [
              0,
              "#0d0887"
             ],
             [
              0.1111111111111111,
              "#46039f"
             ],
             [
              0.2222222222222222,
              "#7201a8"
             ],
             [
              0.3333333333333333,
              "#9c179e"
             ],
             [
              0.4444444444444444,
              "#bd3786"
             ],
             [
              0.5555555555555556,
              "#d8576b"
             ],
             [
              0.6666666666666666,
              "#ed7953"
             ],
             [
              0.7777777777777778,
              "#fb9f3a"
             ],
             [
              0.8888888888888888,
              "#fdca26"
             ],
             [
              1,
              "#f0f921"
             ]
            ],
            "type": "surface"
           }
          ],
          "table": [
           {
            "cells": {
             "fill": {
              "color": "#EBF0F8"
             },
             "line": {
              "color": "white"
             }
            },
            "header": {
             "fill": {
              "color": "#C8D4E3"
             },
             "line": {
              "color": "white"
             }
            },
            "type": "table"
           }
          ]
         },
         "layout": {
          "annotationdefaults": {
           "arrowcolor": "#2a3f5f",
           "arrowhead": 0,
           "arrowwidth": 1
          },
          "autotypenumbers": "strict",
          "coloraxis": {
           "colorbar": {
            "outlinewidth": 0,
            "ticks": ""
           }
          },
          "colorscale": {
           "diverging": [
            [
             0,
             "#8e0152"
            ],
            [
             0.1,
             "#c51b7d"
            ],
            [
             0.2,
             "#de77ae"
            ],
            [
             0.3,
             "#f1b6da"
            ],
            [
             0.4,
             "#fde0ef"
            ],
            [
             0.5,
             "#f7f7f7"
            ],
            [
             0.6,
             "#e6f5d0"
            ],
            [
             0.7,
             "#b8e186"
            ],
            [
             0.8,
             "#7fbc41"
            ],
            [
             0.9,
             "#4d9221"
            ],
            [
             1,
             "#276419"
            ]
           ],
           "sequential": [
            [
             0,
             "#0d0887"
            ],
            [
             0.1111111111111111,
             "#46039f"
            ],
            [
             0.2222222222222222,
             "#7201a8"
            ],
            [
             0.3333333333333333,
             "#9c179e"
            ],
            [
             0.4444444444444444,
             "#bd3786"
            ],
            [
             0.5555555555555556,
             "#d8576b"
            ],
            [
             0.6666666666666666,
             "#ed7953"
            ],
            [
             0.7777777777777778,
             "#fb9f3a"
            ],
            [
             0.8888888888888888,
             "#fdca26"
            ],
            [
             1,
             "#f0f921"
            ]
           ],
           "sequentialminus": [
            [
             0,
             "#0d0887"
            ],
            [
             0.1111111111111111,
             "#46039f"
            ],
            [
             0.2222222222222222,
             "#7201a8"
            ],
            [
             0.3333333333333333,
             "#9c179e"
            ],
            [
             0.4444444444444444,
             "#bd3786"
            ],
            [
             0.5555555555555556,
             "#d8576b"
            ],
            [
             0.6666666666666666,
             "#ed7953"
            ],
            [
             0.7777777777777778,
             "#fb9f3a"
            ],
            [
             0.8888888888888888,
             "#fdca26"
            ],
            [
             1,
             "#f0f921"
            ]
           ]
          },
          "colorway": [
           "#636efa",
           "#EF553B",
           "#00cc96",
           "#ab63fa",
           "#FFA15A",
           "#19d3f3",
           "#FF6692",
           "#B6E880",
           "#FF97FF",
           "#FECB52"
          ],
          "font": {
           "color": "#2a3f5f"
          },
          "geo": {
           "bgcolor": "white",
           "lakecolor": "white",
           "landcolor": "#E5ECF6",
           "showlakes": true,
           "showland": true,
           "subunitcolor": "white"
          },
          "hoverlabel": {
           "align": "left"
          },
          "hovermode": "closest",
          "mapbox": {
           "style": "light"
          },
          "paper_bgcolor": "white",
          "plot_bgcolor": "#E5ECF6",
          "polar": {
           "angularaxis": {
            "gridcolor": "white",
            "linecolor": "white",
            "ticks": ""
           },
           "bgcolor": "#E5ECF6",
           "radialaxis": {
            "gridcolor": "white",
            "linecolor": "white",
            "ticks": ""
           }
          },
          "scene": {
           "xaxis": {
            "backgroundcolor": "#E5ECF6",
            "gridcolor": "white",
            "gridwidth": 2,
            "linecolor": "white",
            "showbackground": true,
            "ticks": "",
            "zerolinecolor": "white"
           },
           "yaxis": {
            "backgroundcolor": "#E5ECF6",
            "gridcolor": "white",
            "gridwidth": 2,
            "linecolor": "white",
            "showbackground": true,
            "ticks": "",
            "zerolinecolor": "white"
           },
           "zaxis": {
            "backgroundcolor": "#E5ECF6",
            "gridcolor": "white",
            "gridwidth": 2,
            "linecolor": "white",
            "showbackground": true,
            "ticks": "",
            "zerolinecolor": "white"
           }
          },
          "shapedefaults": {
           "line": {
            "color": "#2a3f5f"
           }
          },
          "ternary": {
           "aaxis": {
            "gridcolor": "white",
            "linecolor": "white",
            "ticks": ""
           },
           "baxis": {
            "gridcolor": "white",
            "linecolor": "white",
            "ticks": ""
           },
           "bgcolor": "#E5ECF6",
           "caxis": {
            "gridcolor": "white",
            "linecolor": "white",
            "ticks": ""
           }
          },
          "title": {
           "x": 0.05
          },
          "xaxis": {
           "automargin": true,
           "gridcolor": "white",
           "linecolor": "white",
           "ticks": "",
           "title": {
            "standoff": 15
           },
           "zerolinecolor": "white",
           "zerolinewidth": 2
          },
          "yaxis": {
           "automargin": true,
           "gridcolor": "white",
           "linecolor": "white",
           "ticks": "",
           "title": {
            "standoff": 15
           },
           "zerolinecolor": "white",
           "zerolinewidth": 2
          }
         }
        },
        "xaxis": {
         "anchor": "y",
         "domain": [
          0,
          1
         ],
         "title": {
          "text": "end_ds"
         }
        },
        "yaxis": {
         "anchor": "x",
         "domain": [
          0,
          1
         ],
         "title": {
          "text": "count"
         }
        }
       }
      }
     },
     "metadata": {},
     "output_type": "display_data"
    }
   ],
   "source": [
    "fig = px.line(df_byDay_osmType, x=\"end_ds\", y=\"count\",color=\"osm_type\")\n",
    "fig.show()"
   ]
  },
  {
   "cell_type": "code",
   "execution_count": null,
   "metadata": {},
   "outputs": [],
   "source": []
  }
 ],
 "metadata": {
  "interpreter": {
   "hash": "aee8b7b246df8f9039afb4144a1f6fd8d2ca17a180786b69acc140d282b71a49"
  },
  "kernelspec": {
   "display_name": "Python 3.9.5 64-bit",
   "language": "python",
   "name": "python3"
  },
  "language_info": {
   "codemirror_mode": {
    "name": "ipython",
    "version": 3
   },
   "file_extension": ".py",
   "mimetype": "text/x-python",
   "name": "python",
   "nbconvert_exporter": "python",
   "pygments_lexer": "ipython3",
   "version": "3.9.5"
  },
  "orig_nbformat": 4
 },
 "nbformat": 4,
 "nbformat_minor": 2
}
